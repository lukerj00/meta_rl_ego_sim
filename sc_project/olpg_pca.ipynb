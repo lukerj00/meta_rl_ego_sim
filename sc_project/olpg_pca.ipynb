{
 "cells": [
  {
   "cell_type": "code",
   "execution_count": 1,
   "metadata": {},
   "outputs": [
    {
     "ename": "FileNotFoundError",
     "evalue": "[Errno 2] No such file or directory: '/Users/lukej/Documents/sc_project/test_data/outer_loop_pg_new_v4f_17_10-182641.pkl'",
     "output_type": "error",
     "traceback": [
      "\u001b[0;31m---------------------------------------------------------------------------\u001b[0m",
      "\u001b[0;31mFileNotFoundError\u001b[0m                         Traceback (most recent call last)",
      "Cell \u001b[0;32mIn[1], line 43\u001b[0m\n\u001b[1;32m     41\u001b[0m file_ \u001b[39m=\u001b[39m  \u001b[39m'\u001b[39m\u001b[39mouter_loop_pg_new_v4f_17_10-182641.pkl\u001b[39m\u001b[39m'\u001b[39m \u001b[39m# 'outer_loop_pg_new_v4f_20_10-124641.pkl' # outer_loop_pg_new_v4f_17_10-182641.pkl' \u001b[39;00m\n\u001b[1;32m     42\u001b[0m \u001b[39m# 'outer_loop_pg_new_v4f_15_10-204705.pkl' #'outer_loop_pg_new_v4f_15_10-112328.pkl' #'outer_loop_pg_new_v4f_13_10-084101.pkl' # 'outer_loop_pg_new_v4f_14_10-015536.pkl' # 'outer_loop_pg_new_v4f_13_10-084101.pkl' # 'outer_loop_pg_new_v4f_12_10-173828.pkl' #'outer_loop_pg_new_v4f_13_10-081756.pkl' # 'outer_loop_pg_new_v4f_12_10-080400.pkl' # 'outer_loop_pg_new_v4f_12_10-175620.pkl' #'outer_loop_pg_new_v4f_12_10-173828.pkl' #'outer_loop_pg_new_v4f_12_10-151505.pkl' # 'outer_loop_pg_new_v4f_12_10-084905.pkl' # 'outer_loop_pg_new_v4f_12_10-080400.pkl' # 'outer_loop_pg_new_v4_26_09-022146.pkl' # 'outer_loop_pg_new_v4_24_09-201550.pkl' # 'outer_loop_pg_new_v4_18_09-093520.pkl' # 'outer_loop_pg_new_v3_c__18_09-092611.pkl' # 'outer_loop_pg_new_v4_ppo_new__19_09-172733.pkl' # 'outer_loop_pg_new_v3_c__18_09-092611.pkl' # 'sc_project/test_data/outer_loop_pg_new_v4_ppo_new__19_09-172733.pkl' # 'outer_loop_pg_new_v4_17_09-200259.pkl' # 'outer_loop_pg_new_v3_c__18_09-092611.pkl' # 'outer_loop_pg_new_v3_c__15_09-203653.pkl'\u001b[39;00m\n\u001b[0;32m---> 43\u001b[0m other \u001b[39m=\u001b[39m load_data(file_)\n\u001b[1;32m     44\u001b[0m \u001b[39m# (r_arr,rt_arr,sample_arr,pos_plan_arr,pos_arr,dot_arr) = other # (r_arr,rt_arr,sample_arr,pos_plan_arr,pos_arr,dot_arr) (r_arr,rt_arr,pos_arr,dot_arr)\u001b[39;00m\n\u001b[1;32m     45\u001b[0m (r_arr,rp_arr,sample_arr,mask_arr,pos_plan_arr,pos_arr,dot_arr,policy_arr) \u001b[39m=\u001b[39m other\n",
      "Cell \u001b[0;32mIn[1], line 23\u001b[0m, in \u001b[0;36mload_data\u001b[0;34m(str_)\u001b[0m\n\u001b[1;32m     21\u001b[0m \u001b[39mdef\u001b[39;00m \u001b[39mload_data\u001b[39m(str_):\n\u001b[1;32m     22\u001b[0m     path_ \u001b[39m=\u001b[39m os\u001b[39m.\u001b[39mpath\u001b[39m.\u001b[39mdirname(os\u001b[39m.\u001b[39mgetcwd()) \u001b[39m+\u001b[39m \u001b[39m'\u001b[39m\u001b[39m/sc_project/test_data/\u001b[39m\u001b[39m'\u001b[39m \u001b[39m# Path(__file__).resolve().parents[1]\u001b[39;00m\n\u001b[0;32m---> 23\u001b[0m     \u001b[39mwith\u001b[39;00m \u001b[39mopen\u001b[39;49m(path_\u001b[39m+\u001b[39;49mstr_,\u001b[39m'\u001b[39;49m\u001b[39mrb\u001b[39;49m\u001b[39m'\u001b[39;49m) \u001b[39mas\u001b[39;00m file_:\n\u001b[1;32m     24\u001b[0m         \u001b[39m# param = pickle.load(file_)\u001b[39;00m\n\u001b[1;32m     25\u001b[0m         param_ \u001b[39m=\u001b[39m jnp\u001b[39m.\u001b[39mload(file_,allow_pickle\u001b[39m=\u001b[39m\u001b[39mTrue\u001b[39;00m)\n\u001b[1;32m     26\u001b[0m     \u001b[39mreturn\u001b[39;00m param_\n",
      "File \u001b[0;32m~/Documents/meta_rl_ego_sim/venv3/lib/python3.8/site-packages/IPython/core/interactiveshell.py:284\u001b[0m, in \u001b[0;36m_modified_open\u001b[0;34m(file, *args, **kwargs)\u001b[0m\n\u001b[1;32m    277\u001b[0m \u001b[39mif\u001b[39;00m file \u001b[39min\u001b[39;00m {\u001b[39m0\u001b[39m, \u001b[39m1\u001b[39m, \u001b[39m2\u001b[39m}:\n\u001b[1;32m    278\u001b[0m     \u001b[39mraise\u001b[39;00m \u001b[39mValueError\u001b[39;00m(\n\u001b[1;32m    279\u001b[0m         \u001b[39mf\u001b[39m\u001b[39m\"\u001b[39m\u001b[39mIPython won\u001b[39m\u001b[39m'\u001b[39m\u001b[39mt let you open fd=\u001b[39m\u001b[39m{\u001b[39;00mfile\u001b[39m}\u001b[39;00m\u001b[39m by default \u001b[39m\u001b[39m\"\u001b[39m\n\u001b[1;32m    280\u001b[0m         \u001b[39m\"\u001b[39m\u001b[39mas it is likely to crash IPython. If you know what you are doing, \u001b[39m\u001b[39m\"\u001b[39m\n\u001b[1;32m    281\u001b[0m         \u001b[39m\"\u001b[39m\u001b[39myou can use builtins\u001b[39m\u001b[39m'\u001b[39m\u001b[39m open.\u001b[39m\u001b[39m\"\u001b[39m\n\u001b[1;32m    282\u001b[0m     )\n\u001b[0;32m--> 284\u001b[0m \u001b[39mreturn\u001b[39;00m io_open(file, \u001b[39m*\u001b[39;49margs, \u001b[39m*\u001b[39;49m\u001b[39m*\u001b[39;49mkwargs)\n",
      "\u001b[0;31mFileNotFoundError\u001b[0m: [Errno 2] No such file or directory: '/Users/lukej/Documents/sc_project/test_data/outer_loop_pg_new_v4f_17_10-182641.pkl'"
     ]
    }
   ],
   "source": [
    "### load arrs, pgv2/3/4\n",
    "\n",
    "import jax\n",
    "import jax.numpy as jnp\n",
    "from jax import jit\n",
    "import jax.random as rnd\n",
    "import numpy as np\n",
    "\n",
    "np.set_printoptions(threshold=1000, linewidth=200)\n",
    "import matplotlib\n",
    "matplotlib.use('Qt5Agg')\n",
    "import matplotlib.pyplot as plt\n",
    "import matplotlib.animation as animation\n",
    "import matplotlib.gridspec as gridspec\n",
    "import matplotlib.ticker as ticker\n",
    "import matplotlib.cm as cm\n",
    "from matplotlib.patches import Ellipse\n",
    "import os\n",
    "import functools\n",
    "\n",
    "def load_data(str_):\n",
    "    path_ = os.path.dirname(os.getcwd()) + '/sc_project/test_data/' # Path(__file__).resolve().parents[1]\n",
    "    with open(path_+str_,'rb') as file_:\n",
    "        # param = pickle.load(file_)\n",
    "        param_ = jnp.load(file_,allow_pickle=True)\n",
    "    return param_\n",
    "\n",
    "def freeze_array(BA, P):\n",
    "    P2 = np.zeros_like(P)\n",
    "    P2[:, 0] = P[:, 0]\n",
    "    for t in range(1, P.shape[1]):\n",
    "        if BA[t] == 0:\n",
    "            P2[:, t] = P[:, t]  # Update to current value in P\n",
    "        else:\n",
    "            P2[:, t] = P2[:, t - 1]  # Hold previous value\n",
    "    return P2\n",
    "\n",
    "def compare_arrays(pos_arr, pos_plan_arr):\n",
    "    return np.where(pos_arr == pos_plan_arr, 0, 1)\n",
    "\n",
    "file_ =  'outer_loop_pg_new_v4f_17_10-182641.pkl' # 'outer_loop_pg_new_v4f_20_10-124641.pkl' # outer_loop_pg_new_v4f_17_10-182641.pkl' \n",
    "# 'outer_loop_pg_new_v4f_15_10-204705.pkl' #'outer_loop_pg_new_v4f_15_10-112328.pkl' #'outer_loop_pg_new_v4f_13_10-084101.pkl' # 'outer_loop_pg_new_v4f_14_10-015536.pkl' # 'outer_loop_pg_new_v4f_13_10-084101.pkl' # 'outer_loop_pg_new_v4f_12_10-173828.pkl' #'outer_loop_pg_new_v4f_13_10-081756.pkl' # 'outer_loop_pg_new_v4f_12_10-080400.pkl' # 'outer_loop_pg_new_v4f_12_10-175620.pkl' #'outer_loop_pg_new_v4f_12_10-173828.pkl' #'outer_loop_pg_new_v4f_12_10-151505.pkl' # 'outer_loop_pg_new_v4f_12_10-084905.pkl' # 'outer_loop_pg_new_v4f_12_10-080400.pkl' # 'outer_loop_pg_new_v4_26_09-022146.pkl' # 'outer_loop_pg_new_v4_24_09-201550.pkl' # 'outer_loop_pg_new_v4_18_09-093520.pkl' # 'outer_loop_pg_new_v3_c__18_09-092611.pkl' # 'outer_loop_pg_new_v4_ppo_new__19_09-172733.pkl' # 'outer_loop_pg_new_v3_c__18_09-092611.pkl' # 'sc_project/test_data/outer_loop_pg_new_v4_ppo_new__19_09-172733.pkl' # 'outer_loop_pg_new_v4_17_09-200259.pkl' # 'outer_loop_pg_new_v3_c__18_09-092611.pkl' # 'outer_loop_pg_new_v3_c__15_09-203653.pkl'\n",
    "other = load_data(file_)\n",
    "# (r_arr,rt_arr,sample_arr,pos_plan_arr,pos_arr,dot_arr) = other # (r_arr,rt_arr,sample_arr,pos_plan_arr,pos_arr,dot_arr) (r_arr,rt_arr,pos_arr,dot_arr)\n",
    "(r_arr,rp_arr,sample_arr,mask_arr,pos_plan_arr,pos_arr,dot_arr,policy_arr) = other\n",
    "# print('r_arr.shape=',r_arr.shape,'rt_arr.shape=',rt_arr.shape,'pos_plan_arr.shape=',pos_plan_arr.shape,'pos_arr.shape=',pos_arr.shape,'dot_arr.shape=',dot_arr.shape,'sample_arr.shape=',sample_arr.shape)\n",
    "print('r_arr.shape=',r_arr.shape,'rp_arr.shape=',rp_arr.shape,'sample_arr.shape=',sample_arr.shape,'mask_arr.shape=',mask_arr.shape,'pos_plan_arr.shape=',pos_plan_arr.shape,'pos_arr.shape=',pos_arr.shape,'dot_arr.shape=',dot_arr.shape,'policy_arr.shape=',policy_arr[0].shape)\n",
    "print('r_tot=',np.mean(np.sum(r_arr,axis=1)))\n",
    "print('mask_arr=',np.mean(mask_arr))"
   ]
  }
 ],
 "metadata": {
  "kernelspec": {
   "display_name": "venv3",
   "language": "python",
   "name": "python3"
  },
  "language_info": {
   "codemirror_mode": {
    "name": "ipython",
    "version": 3
   },
   "file_extension": ".py",
   "mimetype": "text/x-python",
   "name": "python",
   "nbconvert_exporter": "python",
   "pygments_lexer": "ipython3",
   "version": "3.8.10"
  },
  "orig_nbformat": 4
 },
 "nbformat": 4,
 "nbformat_minor": 2
}
